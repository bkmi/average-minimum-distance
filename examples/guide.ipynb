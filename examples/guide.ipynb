{
 "cells": [
  {
   "cell_type": "code",
   "execution_count": null,
   "metadata": {},
   "outputs": [],
   "source": [
    "# run to pretty-print results\r\n",
    "import numpy as np\r\n",
    "\r\n",
    "np.set_printoptions(precision=5, suppress=True)\r\n",
    "\r\n",
    "import warnings\r\n",
    "warnings.filterwarnings(\"ignore\", category=DeprecationWarning)"
   ]
  },
  {
   "cell_type": "markdown",
   "metadata": {},
   "source": [
    "The amd package contains functions for caluclating and comparing AMDs/PDDs, as well as .cif reading functionality provided by either ase or ccdc (license required).\r\n",
    "\r\n",
    "If not installed already, get amd via pip:\r\n",
    "```shell\r\n",
    "$ pip install average-minimum-distance\r\n",
    "```\r\n",
    "\r\n",
    "To read .cifs it is recommended you also pip install ase, the default back end .cif reader. If you have ccdc installed and a valid license, it can be used instead. ccdc also enables searching the CSD by refcode. "
   ]
  },
  {
   "cell_type": "markdown",
   "metadata": {},
   "source": [
    "**Before running any cells below, import amd by running**"
   ]
  },
  {
   "cell_type": "code",
   "execution_count": null,
   "metadata": {},
   "outputs": [],
   "source": [
    "import amd"
   ]
  },
  {
   "cell_type": "markdown",
   "metadata": {},
   "source": [
    "# Reading cifs"
   ]
  },
  {
   "cell_type": "markdown",
   "metadata": {},
   "source": [
    "## With amd.CifReader"
   ]
  },
  {
   "cell_type": "markdown",
   "metadata": {},
   "source": [
    "To read cifs with amd, create an ```amd.CifReader``` object and pass the path to the cif as below. (The .cifs in this notebook can be found in the tests folder of this project). The CifReader will try to extract the correct information; if a structure cannot be read by default it is skipped by the reader and a warning is printed. This returns an iterator which can be looped over to get all structures from a file. It yields ```PeriodicSet``` objects, which can be handed directly to the AMD/PDD calculator functions below. ```PeriodicSet```s basically have only 3 attributes, a ```name```, ```motif``` and ```cell```."
   ]
  },
  {
   "cell_type": "code",
   "execution_count": null,
   "metadata": {},
   "outputs": [],
   "source": [
    "# one cif, many structures\r\n",
    "\r\n",
    "reader = amd.CifReader('T2_experimental.cif')\r\n",
    "for periodic_set in reader:\r\n",
    "    print(periodic_set.name, periodic_set.motif.shape[0])   # print name & number of motif points\r\n",
    "    periodic_set.cell                                       # access unit cell\r\n",
    "\r\n",
    "# if you don't care about lazy reading and just want a list of structures,\r\n",
    "exp_structures = list(amd.CifReader('T2_experimental.cif'))"
   ]
  },
  {
   "cell_type": "markdown",
   "metadata": {},
   "source": [
    "Below, setting ```remove_hydrogens``` to True will ignore all Hydrogen atoms in the file. The CifReader has a few optional arguments, but this is the only stable one and others (like ```heaviest_component``` below) should be only be changed with caution."
   ]
  },
  {
   "cell_type": "code",
   "execution_count": null,
   "metadata": {},
   "outputs": [],
   "source": [
    "# one cif, one structure\r\n",
    "\r\n",
    "gamma = list(amd.CifReader('T2_gamma.cif', remove_hydrogens=True))[0]"
   ]
  },
  {
   "cell_type": "markdown",
   "metadata": {},
   "source": [
    "T2_alpha.cif has a solvent molecule with disorder. Setting ```heaviest_component``` to True (ccdc only) will attempt to remove the solvent by only extracting the heaviest molecule in the asymmetric unit. Use with caution; if for example the asymmetric unit is already expanded in your .cif or you have a co-crystal this results in unintended behaviour."
   ]
  },
  {
   "cell_type": "code",
   "execution_count": null,
   "metadata": {},
   "outputs": [],
   "source": [
    "# an odd case where we need ccdc. Will error if not installed or licensed\r\n",
    "\r\n",
    "reader = amd.CifReader('T2_alpha.cif', reader='ccdc', heaviest_component=True)\r\n",
    "alpha = list(reader)[0]\r\n",
    "print(alpha)"
   ]
  },
  {
   "cell_type": "markdown",
   "metadata": {},
   "source": [
    "The core object representing a crystal structure in ase is called ```Atoms```. Using ase, you can read ```Atoms``` from a cif or extract the raw data:"
   ]
  },
  {
   "cell_type": "markdown",
   "metadata": {},
   "source": [
    "# Calculating AMDs and PDDs"
   ]
  },
  {
   "cell_type": "markdown",
   "metadata": {},
   "source": [
    "The main calculator functions ```amd.amd``` and ```amd.pdd``` accept two arguments, a periodic set and an integer ```k```. The periodic set can be either a ```PeriodicSet``` object as given by a CifReader, or a pair of numpy arrays (motif, cell)."
   ]
  },
  {
   "cell_type": "code",
   "execution_count": null,
   "metadata": {},
   "outputs": [],
   "source": [
    "k = 100\r\n",
    "\r\n",
    "# one AMD from a .cif with one structure\r\n",
    "gamma = list(amd.CifReader('T2_gamma.cif'))[0]\r\n",
    "gamma_amd = amd.amd(gamma, k) \r\n",
    "print(gamma_amd)\r\n",
    "\r\n",
    "# list of amds from a .cif with many structures\r\n",
    "exp_structures = amd.CifReader('T2_experimental.cif')\r\n",
    "experimental_amds = [amd.amd(periodic_set, k) for periodic_set in exp_structures] # list of AMDs"
   ]
  },
  {
   "cell_type": "code",
   "execution_count": null,
   "metadata": {},
   "outputs": [],
   "source": [
    "k = 100\r\n",
    "\r\n",
    "# the pdd interface is the same as amd\r\n",
    "gamma = list(amd.CifReader('T2_gamma.cif'))[0]\r\n",
    "gamma = next(iter(amd.CifReader('T2_gamma.cif')))\r\n",
    "# print(gamma)\r\n",
    "print(gamma)\r\n",
    "print('unit cell:\\n', gamma.cell)\r\n",
    "print('5 points of the motif:\\n', gamma.motif[:5])\r\n",
    "gamma_pdd = amd.pdd(gamma, k)\r\n",
    "\r\n",
    "print('PDD:\\n', gamma_pdd)"
   ]
  },
  {
   "cell_type": "code",
   "execution_count": null,
   "metadata": {},
   "outputs": [],
   "source": [
    "import numpy as np\r\n",
    "\r\n",
    "k = 100\r\n",
    "\r\n",
    "# from a tuple (motif, cell) of numpy arrays\r\n",
    "motif = np.array([[0,0,0]]) # one point at the origin\r\n",
    "cell = np.identity(3)       # unit cell = identity (cube with unit edges)\r\n",
    "cubic_pdd = amd.pdd((motif, cell), k)\r\n",
    "\r\n",
    "print(cubic_pdd)"
   ]
  },
  {
   "cell_type": "markdown",
   "metadata": {},
   "source": [
    "# Comparing AMDs and PDDs"
   ]
  },
  {
   "cell_type": "markdown",
   "metadata": {},
   "source": [
    "There are several functions which compare by AMD or PDD. The names 'cdist' and 'pdist' come from scipy: cdist is for comparing one set against another, whereas pdist takes one set and compares it pairwise.  So to compare with AMDs, use ```amd.amd_pdist``` or ```amd.amd_cdist``` and to compare with PDDs use ```amd.pdd_pdist``` or ```amd.pdd_cdist```. Example:"
   ]
  },
  {
   "cell_type": "code",
   "execution_count": null,
   "metadata": {},
   "outputs": [],
   "source": [
    "# comapres T2-gamma to all experimental structures by AMD, k=100.\r\n",
    "\r\n",
    "import numpy as np\r\n",
    "\r\n",
    "exp_structures = list(amd.CifReader('T2_experimental.cif'))\r\n",
    "gamma = list(amd.CifReader('T2_gamma.cif'))[0]\r\n",
    "\r\n",
    "k = 100\r\n",
    "exp_amds = [amd.amd(s, k) for s in exp_structures]\r\n",
    "gamma_amd = amd.amd(gamma, k)\r\n",
    "\r\n",
    "dm = amd.amd_cdist(gamma_amd, exp_amds)  # compare gamma to exp structures\r\n",
    "closest_indices = np.argsort(dm)[0]  # get indices of smallest elements i.e closest\r\n",
    "for i in closest_indices:\r\n",
    "    print(exp_structures[i].name, dm[0][i])  # print structs in order of ditance\r\n"
   ]
  },
  {
   "cell_type": "markdown",
   "metadata": {},
   "source": [
    "The output of these functions mimic scipy's [cdist](scipy.spatial.distance.cdist) and [pdist](https://docs.scipy.org/doc/scipy/reference/generated/scipy.spatial.distance.pdist.html), cdist returns a 2D distance matrix and pdist returns a 'condensed distance vector' ([see scipy's squareform](https://docs.scipy.org/doc/scipy/reference/generated/scipy.spatial.distance.squareform.html))."
   ]
  },
  {
   "cell_type": "markdown",
   "metadata": {},
   "source": [
    "These functions take the same optional arguments. If you want to change the defaults to see the effect on comparisons, details are in the readme and documentation. Briefly, ```metric``` (default 'chebyshev', aka l-infinity) is the metric used to compare AMDs or the rows of PDDs, it can be any metric accepted by [scipy's cdist function](https://docs.scipy.org/doc/scipy/reference/generated/scipy.spatial.distance.cdist.html). ```k``` (default None) is the value of k to use when comparing, it just truncates the inputs to a smaller length if an int, but can also be a ```range``` which compares over a range of k and collapses the resulting sequences of distances with a norm optionally specified with ```ord```, which accepts any ```ord``` accepted by [numpy's norm function](https://numpy.org/doc/stable/reference/generated/numpy.linalg.norm.html). \r\n",
    "\r\n",
    " The functions that use PDD also take a parameter ```verbose``` which if true will print an ETA to the terminal."
   ]
  },
  {
   "cell_type": "code",
   "execution_count": null,
   "metadata": {},
   "outputs": [],
   "source": [
    "k = 100\r\n",
    "\r\n",
    "exp_structures = list(amd.CifReader('T2_experimental.cif'))\r\n",
    "experimental_pdds = [amd.pdd(periodic_set, k) for periodic_set in exp_structures]\r\n",
    "\r\n",
    "# compare experimental structures pairwise\r\n",
    "# returns a condensed distance matrix\r\n",
    "cdm = amd.pdd_pdist(experimental_amds)"
   ]
  }
 ],
 "metadata": {
  "interpreter": {
   "hash": "b8c8c5ce77f0a56d737781878b0ca562042a67810df8c1d8f961440ba451b97c"
  },
  "kernelspec": {
   "display_name": "Python 3.7.0 64-bit ('Python37')",
   "name": "python3"
  },
  "language_info": {
   "codemirror_mode": {
    "name": "ipython",
    "version": 3
   },
   "file_extension": ".py",
   "mimetype": "text/x-python",
   "name": "python",
   "nbconvert_exporter": "python",
   "pygments_lexer": "ipython3",
   "version": "3.7.0"
  },
  "orig_nbformat": 3
 },
 "nbformat": 4,
 "nbformat_minor": 2
}