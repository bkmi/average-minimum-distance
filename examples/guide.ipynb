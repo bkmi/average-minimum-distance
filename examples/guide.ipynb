{
 "cells": [
  {
   "cell_type": "code",
   "execution_count": null,
   "source": [
    "# run to pretty-print results\r\n",
    "import numpy as np\r\n",
    "\r\n",
    "np.set_printoptions(precision=5, suppress=True)\r\n",
    "\r\n",
    "import warnings\r\n",
    "warnings.filterwarnings(\"ignore\", category=DeprecationWarning)"
   ],
   "outputs": [],
   "metadata": {}
  },
  {
   "cell_type": "markdown",
   "source": [
    "The amd package contains functions for caluclating and comparing AMDs/PDDs, as well as .cif reading functionality.\r\n",
    "\r\n",
    "Get the package with pip:\r\n",
    "```shell\r\n",
    "$ pip install average-minimum-distance\r\n",
    "```"
   ],
   "metadata": {}
  },
  {
   "cell_type": "markdown",
   "source": [
    "**Import average-minimum-distance by running**"
   ],
   "metadata": {}
  },
  {
   "cell_type": "code",
   "execution_count": null,
   "source": [
    "import amd"
   ],
   "outputs": [],
   "metadata": {}
  },
  {
   "cell_type": "markdown",
   "source": [
    "# Reading cifs"
   ],
   "metadata": {}
  },
  {
   "cell_type": "markdown",
   "source": [
    "To read cifs with amd, use an ```amd.CifReader``` object (the .cifs in this notebook can be found in the tests folder of this project). The CifReader is an iterator which can be looped over to get all structures from a file. If a structure cannot be read or is 'bad', by default it is skipped by the reader and a warning is printed. The reader yields ```PeriodicSet``` objects, which can be handed directly to the AMD/PDD calculator functions below. "
   ],
   "metadata": {}
  },
  {
   "cell_type": "code",
   "execution_count": null,
   "source": [
    "# one cif, many structures\r\n",
    "reader = amd.CifReader('T2_experimental.cif')\r\n",
    "for periodic_set in reader:\r\n",
    "    print(periodic_set.name, periodic_set.motif.shape[0])   # print name & number of motif points\r\n",
    "    periodic_set.cell                                       # access unit cell\r\n",
    "\r\n",
    "# if you don't care about lazy reading and just want a list of structures\r\n",
    "exp_structures = list(amd.CifReader('T2_experimental.cif'))"
   ],
   "outputs": [],
   "metadata": {}
  },
  {
   "cell_type": "markdown",
   "source": [
    "Setting ```remove_hydrogens``` to True will not include Hydrogen atoms:"
   ],
   "metadata": {}
  },
  {
   "cell_type": "code",
   "execution_count": null,
   "source": [
    "# one cif, one structure\r\n",
    "\r\n",
    "gamma_withH = list(amd.CifReader('T2_gamma.cif'))[0]\r\n",
    "print(gamma_withH.motif.shape[0])   # n motif points\r\n",
    "gamma_noH = list(amd.CifReader('T2_gamma.cif', remove_hydrogens=True))[0]\r\n",
    "print(gamma_noH.motif.shape[0])     # n motif points"
   ],
   "outputs": [],
   "metadata": {}
  },
  {
   "cell_type": "markdown",
   "source": [
    "# Calculating AMDs and PDDs"
   ],
   "metadata": {}
  },
  {
   "cell_type": "markdown",
   "source": [
    "The main calculator functions ```amd.AMD``` and ```amd.PDD``` accept two arguments, a crystal and an integer ```k```. The crystal can be either an output of a CifReader (or CSDReader), or you can manually make a pair of numpy arrays (motif, cell)."
   ],
   "metadata": {}
  },
  {
   "cell_type": "code",
   "execution_count": null,
   "source": [
    "k = 100\r\n",
    "\r\n",
    "# one AMD from a .cif with one structure\r\n",
    "gamma = list(amd.CifReader('T2_gamma.cif'))[0]\r\n",
    "gamma_amd = amd.AMD(gamma, k) \r\n",
    "print(gamma_amd)\r\n",
    "\r\n",
    "# list of amds from a .cif with many structures\r\n",
    "exp_structures = amd.CifReader('T2_experimental.cif')\r\n",
    "experimental_amds = [amd.AMD(periodic_set, k) for periodic_set in exp_structures]"
   ],
   "outputs": [],
   "metadata": {}
  },
  {
   "cell_type": "code",
   "execution_count": null,
   "source": [
    "k = 100\r\n",
    "\r\n",
    "# the pdd interface is the same as amd\r\n",
    "gamma = list(amd.CifReader('T2_gamma.cif'))[0]\r\n",
    "print(gamma)\r\n",
    "print('unit cell:\\n', gamma.cell)\r\n",
    "print('5 points of the motif:\\n', gamma.motif[:5])\r\n",
    "gamma_pdd = amd.PDD(gamma, k)\r\n",
    "\r\n",
    "print('PDD:\\n', gamma_pdd)"
   ],
   "outputs": [],
   "metadata": {}
  },
  {
   "cell_type": "code",
   "execution_count": null,
   "source": [
    "# creating a motif, cell pair manually\r\n",
    "\r\n",
    "import numpy as np\r\n",
    "\r\n",
    "k = 100\r\n",
    "\r\n",
    "# from a tuple (motif, cell) of numpy arrays\r\n",
    "motif = np.array([[0,0,0]]) # one point at the origin\r\n",
    "cell = np.identity(3)       # unit cell = identity (cube with unit edges)\r\n",
    "cubic_pdd = amd.PDD((motif, cell), k)\r\n",
    "\r\n",
    "print(cubic_pdd)"
   ],
   "outputs": [],
   "metadata": {}
  },
  {
   "cell_type": "markdown",
   "source": [
    "# Comparing AMDs and PDDs"
   ],
   "metadata": {}
  },
  {
   "cell_type": "markdown",
   "source": [
    "There are several functions which compare by AMD or PDD. The names 'cdist' and 'pdist' come from scipy: cdist is for comparing one set against another, whereas pdist takes one set and compares it pairwise.  So to compare with AMDs, use ```amd.AMD_pdist``` or ```amd.AMD_cdist``` and to compare with PDDs use ```amd.PDD_pdist``` or ```amd.PDD_cdist```. Example:"
   ],
   "metadata": {}
  },
  {
   "cell_type": "code",
   "execution_count": null,
   "source": [
    "# comapres T2-gamma to all experimental structures by AMD, k=100.\r\n",
    "\r\n",
    "import numpy as np\r\n",
    "\r\n",
    "exp_structures = list(amd.CifReader('T2_experimental.cif'))\r\n",
    "gamma = list(amd.CifReader('T2_gamma.cif'))[0]\r\n",
    "\r\n",
    "k = 100\r\n",
    "exp_amds = [amd.AMD(s, k) for s in exp_structures]\r\n",
    "gamma_amd = amd.AMD(gamma, k)\r\n",
    "\r\n",
    "dm = amd.AMD_cdist(gamma_amd, exp_amds)  # compare gamma to exp structures\r\n",
    "closest_indices = np.argsort(dm)[0]      # get indices of smallest elements i.e closest\r\n",
    "for i in closest_indices:\r\n",
    "    print(exp_structures[i].name, dm[0][i])  # print structs in order of ditance\r\n"
   ],
   "outputs": [],
   "metadata": {}
  },
  {
   "cell_type": "markdown",
   "source": [
    "The output of these functions mimic scipy's [cdist](scipy.spatial.distance.cdist) and [pdist](https://docs.scipy.org/doc/scipy/reference/generated/scipy.spatial.distance.pdist.html), cdist returns a 2D distance matrix and pdist returns a 'condensed distance vector' ([see scipy's squareform](https://docs.scipy.org/doc/scipy/reference/generated/scipy.spatial.distance.squareform.html))."
   ],
   "metadata": {}
  },
  {
   "cell_type": "markdown",
   "source": [
    "These functions take the same optional arguments. If you want to change the defaults to see the effect on comparisons, details are in the readme and documentation. Briefly, ```metric``` (default 'chebyshev', aka l-infinity) is the metric used to compare AMDs or the rows of PDDs, it can be any metric accepted by [scipy's cdist function](https://docs.scipy.org/doc/scipy/reference/generated/scipy.spatial.distance.cdist.html). ```k``` (default None) is the value of k to use when comparing, it just truncates the inputs to a smaller length if an int, but can also be a ```range``` which compares over a range of k and collapses the resulting sequences of distances with a norm optionally specified with ```ord```, which accepts any ```ord``` accepted by [numpy's norm function](https://numpy.org/doc/stable/reference/generated/numpy.linalg.norm.html). \r\n",
    "\r\n",
    " The functions that use PDD also take a parameter ```verbose``` which if true will print an ETA to the terminal."
   ],
   "metadata": {}
  },
  {
   "cell_type": "code",
   "execution_count": null,
   "source": [
    "k = 100\r\n",
    "\r\n",
    "exp_structures = list(amd.CifReader('T2_experimental.cif'))\r\n",
    "experimental_pdds = [amd.PDD(periodic_set, k) for periodic_set in exp_structures]\r\n",
    "\r\n",
    "# compare experimental structures pairwise\r\n",
    "# returns a condensed distance matrix\r\n",
    "cdm = amd.PDD_pdist(experimental_amds)"
   ],
   "outputs": [],
   "metadata": {}
  }
 ],
 "metadata": {
  "interpreter": {
   "hash": "b8c8c5ce77f0a56d737781878b0ca562042a67810df8c1d8f961440ba451b97c"
  },
  "kernelspec": {
   "display_name": "Python 3.7.0 64-bit ('Python37')",
   "name": "python3"
  },
  "language_info": {
   "codemirror_mode": {
    "name": "ipython",
    "version": 3
   },
   "file_extension": ".py",
   "mimetype": "text/x-python",
   "name": "python",
   "nbconvert_exporter": "python",
   "pygments_lexer": "ipython3",
   "version": "3.7.0"
  },
  "orig_nbformat": 3
 },
 "nbformat": 4,
 "nbformat_minor": 2
}