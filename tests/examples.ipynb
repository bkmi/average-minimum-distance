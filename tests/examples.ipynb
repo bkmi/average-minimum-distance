{
 "cells": [
  {
   "cell_type": "code",
   "execution_count": null,
   "metadata": {},
   "outputs": [],
   "source": [
    "# run to pretty-print results\r\n",
    "import numpy as np\r\n",
    "\r\n",
    "np.set_printoptions(precision=5, suppress=True)\r\n",
    "\r\n",
    "import warnings\r\n",
    "warnings.filterwarnings(\"ignore\", category=DeprecationWarning)"
   ]
  },
  {
   "cell_type": "markdown",
   "metadata": {},
   "source": [
    "# Using average-minimum-distance (amd)"
   ]
  },
  {
   "cell_type": "markdown",
   "metadata": {},
   "source": [
    "The amd package contains functions for caluclating and comparing AMDs/PDDs, as well as .cif reading functionality provided by either ase or ccdc (license required).\r\n",
    "\r\n",
    "If not installed already, get amd via pip:\r\n",
    "```shell\r\n",
    "$ pip install average-minimum-distance\r\n",
    "```\r\n",
    "\r\n",
    "To read .cifs it is recommended you also pip install ase, the default back end .cif reader. If you have ccdc installed and a valid license, it can be used instead. ccdc also enables searching the CSD by refcode. "
   ]
  },
  {
   "cell_type": "markdown",
   "metadata": {},
   "source": [
    "**Before running any cells below, import amd by running**"
   ]
  },
  {
   "cell_type": "code",
   "execution_count": null,
   "metadata": {},
   "outputs": [],
   "source": [
    "import amd"
   ]
  },
  {
   "cell_type": "markdown",
   "metadata": {},
   "source": [
    "## Reading cifs"
   ]
  },
  {
   "cell_type": "markdown",
   "metadata": {},
   "source": [
    "To read cifs with amd, create an ```amd.CifReader``` object and pass the path to the cif as below. (The .cifs in this notebook can be found in the tests folder of this project). The CifReader will try to extract the correct information; if a structure cannot be read by default it is skipped by the reader and a warning is printed. This returns an iterator which can be looped over to get all structures from a file. It yields ```PeriodicSet``` objects, which can be handed directly to the AMD/PDD calculator functions below. ```PeriodicSet```s basically have only 3 attributes, a ```name```, ```motif``` and ```cell```."
   ]
  },
  {
   "cell_type": "code",
   "execution_count": null,
   "metadata": {},
   "outputs": [],
   "source": [
    "# one cif, many structures\r\n",
    "\r\n",
    "reader = amd.CifReader('T2_experimental.cif')\r\n",
    "for periodic_set in reader:\r\n",
    "    print(periodic_set.name, periodic_set.motif.shape[0])   # print name & number of motif points\r\n",
    "    periodic_set.cell                                       # access unit cell\r\n",
    "\r\n",
    "# if you don't care about lazy reading and just want a list of structures,\r\n",
    "exp_structures = list(amd.CifReader('T2_experimental.cif'))"
   ]
  },
  {
   "cell_type": "markdown",
   "metadata": {},
   "source": [
    "Below, setting ```remove_hydrogens``` to True will ignore all Hydrogen atoms in the file. The CifReader has a few optional arguments, but this is the only stable one and others (like ```heaviest_component``` below) should be only be changed with caution."
   ]
  },
  {
   "cell_type": "code",
   "execution_count": null,
   "metadata": {},
   "outputs": [],
   "source": [
    "# one cif, one structure\r\n",
    "\r\n",
    "gamma = list(amd.CifReader('T2_gamma.cif', remove_hydrogens=True))[0]"
   ]
  },
  {
   "cell_type": "markdown",
   "metadata": {},
   "source": [
    "T2_alpha.cif has a solvent molecule with disorder. Setting ```heaviest_component``` to True (ccdc only) will attempt to remove the solvent by only extracting the heaviest molecule in the asymmetric unit. Use with caution; if for example the asymmetric unit is already expanded in your .cif or you have a co-crystal this results in unintended behaviour."
   ]
  },
  {
   "cell_type": "code",
   "execution_count": null,
   "metadata": {},
   "outputs": [],
   "source": [
    "# an odd case where we need ccdc. Will error if not installed or licensed\r\n",
    "\r\n",
    "reader = amd.CifReader('T2_alpha.cif', reader='ccdc', heaviest_component=True)\r\n",
    "alpha = list(reader)[0]\r\n",
    "print(alpha)"
   ]
  },
  {
   "cell_type": "markdown",
   "metadata": {},
   "source": [
    "## Calculating AMDs and PDDs"
   ]
  },
  {
   "cell_type": "markdown",
   "metadata": {},
   "source": [
    "The main calculator functions ```amd.amd``` and ```amd.pdd``` accept two arguments, a periodic set and an integer ```k```. The periodic set can be either a ```PeriodicSet``` object as given by a CifReader, or a pair of numpy arrays (motif, cell)."
   ]
  },
  {
   "cell_type": "code",
   "execution_count": null,
   "metadata": {},
   "outputs": [],
   "source": [
    "k = 100\r\n",
    "\r\n",
    "# one AMD from a .cif with one structure\r\n",
    "gamma = list(amd.CifReader('T2_gamma.cif'))[0]\r\n",
    "gamma_amd = amd.amd(gamma, k) \r\n",
    "print(gamma_amd)\r\n",
    "\r\n",
    "# list of amds from a .cif with many structures\r\n",
    "exp_structures = amd.CifReader('T2_experimental.cif')\r\n",
    "experimental_amds = [amd.amd(periodic_set, k) for periodic_set in exp_structures] # list of AMDs"
   ]
  },
  {
   "cell_type": "code",
   "execution_count": null,
   "metadata": {},
   "outputs": [],
   "source": [
    "k = 100\r\n",
    "\r\n",
    "# the pdd interface is the same as amd\r\n",
    "gamma = list(amd.CifReader('T2_gamma.cif'))[0]\r\n",
    "gamma_pdd = amd.pdd(gamma, k)\r\n",
    "\r\n",
    "print(gamma_pdd)"
   ]
  },
  {
   "cell_type": "code",
   "execution_count": null,
   "metadata": {},
   "outputs": [],
   "source": [
    "import numpy as np\r\n",
    "\r\n",
    "k = 100\r\n",
    "\r\n",
    "# from a tuple (motif, cell) of numpy arrays\r\n",
    "motif = np.array([[0,0,0]]) # one point at the origin\r\n",
    "cell = np.identity(3)       # unit cell = identity (cube with unit edges)\r\n",
    "cubic_pdd = amd.pdd((motif, cell), k)\r\n",
    "\r\n",
    "print(cubic_pdd)"
   ]
  },
  {
   "cell_type": "markdown",
   "metadata": {},
   "source": [
    "## Comparing AMDs and PDDs"
   ]
  },
  {
   "cell_type": "markdown",
   "metadata": {},
   "source": [
    "Two AMDs are typically compared with the l-infinity or Chebyshev metric. Comparing AMDs should be done with ```amd.compare``` (which essentially wraps scipy's cdist for now). It takes two arguments ```reference``` and ```comparison```, either of which can be a single AMD, a list of AMDs, or a numpy array with AMDs in the rows. It returns a distance matrix where the (i,j)-th entry is the AMD-distance between ```reference[i]``` and ```comparison[j]```. If single AMDs are passed it will still return a 2D matrix, so if ```amd_1, amd_2``` are AMDs then ```amd.compare(amd_1, amd_2)[0][0]``` is the distance between them."
   ]
  },
  {
   "cell_type": "code",
   "execution_count": null,
   "metadata": {},
   "outputs": [],
   "source": [
    "import numpy as np\r\n",
    "\r\n",
    "k = 100\r\n",
    "\r\n",
    "gamma = list(amd.CifReader('T2_gamma.cif'))[0]\r\n",
    "gamma_amd = amd.amd(gamma, k)\r\n",
    "\r\n",
    "exp_structures = list(amd.CifReader('T2_experimental.cif'))\r\n",
    "experimental_amds = [amd.amd(periodic_set, k) for periodic_set in exp_structures]\r\n",
    "\r\n",
    "# compare T2-gamma to the other experimental structures\r\n",
    "distance_matrix = amd.compare(gamma_amd, experimental_amds)\r\n",
    "print(distance_matrix)\r\n",
    "\r\n",
    "# this will sort the output by distance and print the closest structures to T2_gamma in order\r\n",
    "for i in np.argsort(distance_matrix[0]):\r\n",
    "    print(exp_structures[i].name, distance_matrix[0][i])"
   ]
  },
  {
   "cell_type": "code",
   "execution_count": null,
   "metadata": {},
   "outputs": [],
   "source": [
    "# compare a set of AMDs pairwise\r\n",
    "distance_matrix = amd.compare(experimental_amds, experimental_amds)\r\n",
    "print(distance_matrix)"
   ]
  },
  {
   "cell_type": "code",
   "execution_count": null,
   "metadata": {},
   "outputs": [],
   "source": [
    "import numpy as np\r\n",
    "\r\n",
    "motif = np.array([[0,0,0]]) # one point at the origin\r\n",
    "cell = np.identity(3)       # unit cell = identity\r\n",
    "cubic_amd = amd.amd((motif, cell), k)\r\n",
    "cubic_amd_ = amd.amd(cubic, k)\r\n",
    "print(amd.compare(cubic_amd, cubic_amd_))"
   ]
  },
  {
   "cell_type": "markdown",
   "metadata": {},
   "source": [
    "To compare PDDs, use ```amd.emd``` which accepts excatly two PDDs as arguments and returns one number. "
   ]
  },
  {
   "cell_type": "code",
   "execution_count": null,
   "metadata": {},
   "outputs": [],
   "source": [
    "k = 1000\r\n",
    "\r\n",
    "# construct cubic lattice manually\r\n",
    "motif = np.array([[0,0,0]])\r\n",
    "cell = np.identity(3)      \r\n",
    "cubic_pdd = amd.pdd((motif, cell), k)\r\n",
    "\r\n",
    "# read same structure from cif\r\n",
    "cubic_pdd_cif = amd.pdd(list(amd.CifReader('cubic.cif'))[0], k)\r\n",
    "\r\n",
    "# they should be identical (distance 0)\r\n",
    "print(amd.emd(cubic_pdd, cubic_pdd_cif))"
   ]
  },
  {
   "cell_type": "markdown",
   "metadata": {},
   "source": [
    "## Extras"
   ]
  },
  {
   "cell_type": "markdown",
   "metadata": {},
   "source": [
    "### Reading by CSD refcode (ccdc only)"
   ]
  },
  {
   "cell_type": "markdown",
   "metadata": {},
   "source": [
    "If you have the ccdc package installed, the ```CSDReader``` object lets you read entries from the CSD. Instead of a path to a file it accepts a list of CSD refcodes. It takes the same optional parameters as ```CifReader``` (except ```reader```), e.g. ```remove_hydrogens```. It has another optional parameter ```families``` which reads in families of structures from the base refcode:"
   ]
  },
  {
   "cell_type": "code",
   "execution_count": null,
   "metadata": {},
   "outputs": [],
   "source": [
    "import amd\r\n",
    "\r\n",
    "# get DEBXIT and ACSALA01\r\n",
    "print(list(amd.CSDReader(['DEBXIT', 'ACSALA01'])))\r\n",
    "\r\n",
    "# get both families (anything like DEBXITXX or ACSALAXX)\r\n",
    "print(list(amd.CSDReader(['DEBXIT', 'ACSALA'], families=True)))"
   ]
  },
  {
   "cell_type": "markdown",
   "metadata": {},
   "source": [
    "# Using ase directly to read .cifs"
   ]
  },
  {
   "cell_type": "code",
   "execution_count": null,
   "metadata": {},
   "outputs": [],
   "source": [
    "import ase.io\r\n",
    "\r\n",
    "atoms = ase.io.read('T2_gamma.cif')             # returns one atoms object\r\n",
    "iterator = ase.io.iread('T2_experimental.cif')  # yields atoms objects\r\n",
    "\r\n",
    "print(atoms)\r\n",
    "print(atoms.get_cell().array)                # Cartesian unit cell\r\n",
    "print(atoms.get_positions(wrap=True).shape)  # Cartesian motif (wrap positions into cell)"
   ]
  }
 ],
 "metadata": {
  "interpreter": {
   "hash": "b8c8c5ce77f0a56d737781878b0ca562042a67810df8c1d8f961440ba451b97c"
  },
  "kernelspec": {
   "display_name": "Python 3.7.0 64-bit",
   "name": "python3"
  },
  "language_info": {
   "codemirror_mode": {
    "name": "ipython",
    "version": 3
   },
   "file_extension": ".py",
   "mimetype": "text/x-python",
   "name": "python",
   "nbconvert_exporter": "python",
   "pygments_lexer": "ipython3",
   "version": "3.7.0"
  },
  "orig_nbformat": 3
 },
 "nbformat": 4,
 "nbformat_minor": 2
}